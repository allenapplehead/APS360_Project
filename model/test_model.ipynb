{
 "cells": [
  {
   "cell_type": "markdown",
   "metadata": {},
   "source": [
    "# Model Playground"
   ]
  },
  {
   "cell_type": "code",
   "execution_count": 1,
   "metadata": {},
   "outputs": [],
   "source": [
    "# Imports\n",
    "import json\n",
    "import os\n",
    "import torch\n",
    "import numpy as np\n",
    "from torch.utils.data import DataLoader, Dataset\n",
    "import torch.nn.functional as F\n",
    "import torch.nn as nn\n",
    "import torch.optim as optim\n",
    "\n",
    "import pretty_midi\n",
    "from model import Net\n",
    "from midi_to_piano_roll import midi_to_piano_roll\n",
    "from loss import blur_loss\n",
    "\n",
    "import time\n",
    "import pickle"
   ]
  },
  {
   "cell_type": "code",
   "execution_count": 2,
   "metadata": {},
   "outputs": [
    {
     "data": {
      "text/plain": [
       "<All keys matched successfully>"
      ]
     },
     "execution_count": 2,
     "metadata": {},
     "output_type": "execute_result"
    }
   ],
   "source": [
    "# Load our checkpoint\n",
    "ckpt_path = \"/media/allentao/One Touch/APS360/ckpts/aug1lr0.0001overfit/checkpoint_epoch121.pt\"\n",
    "state = torch.load(ckpt_path)\n",
    "model = Net(width = 3, batch_size = 1)\n",
    "model.load_state_dict(state['state_dict'])"
   ]
  },
  {
   "cell_type": "code",
   "execution_count": 3,
   "metadata": {},
   "outputs": [],
   "source": [
    "# Load our data sample\n",
    "# song midi\n",
    "IN_FOLDER = '../data/clean_data/'\n",
    "song_midi_path = IN_FOLDER + \"1_0_song.midi\"\n",
    "\n",
    "# convert to piano roll\n",
    "song_piano_roll = midi_to_piano_roll(song_midi_path)"
   ]
  },
  {
   "cell_type": "code",
   "execution_count": 4,
   "metadata": {},
   "outputs": [
    {
     "data": {
      "text/plain": [
       "device(type='cuda')"
      ]
     },
     "execution_count": 4,
     "metadata": {},
     "output_type": "execute_result"
    }
   ],
   "source": [
    "device = torch.device(\"cuda\" if torch.cuda.is_available() else \"cpu\")\n",
    "device"
   ]
  },
  {
   "cell_type": "code",
   "execution_count": 5,
   "metadata": {},
   "outputs": [
    {
     "data": {
      "text/plain": [
       "torch.Size([1, 22705, 128])"
      ]
     },
     "execution_count": 5,
     "metadata": {},
     "output_type": "execute_result"
    }
   ],
   "source": [
    "# Run inference\n",
    "model = model.to(device)\n",
    "out = model(song_piano_roll.unsqueeze(0).to(device))\n",
    "out.shape"
   ]
  },
  {
   "cell_type": "code",
   "execution_count": 6,
   "metadata": {},
   "outputs": [
    {
     "data": {
      "text/plain": [
       "tensor([[[5.9975e-05, 1.7732e-05, 3.8113e-05,  ..., 2.9938e-05,\n",
       "          2.8968e-05, 2.7440e-05],\n",
       "         [6.0743e-05, 4.5981e-05, 3.3111e-05,  ..., 3.0454e-05,\n",
       "          2.6957e-05, 3.1426e-05],\n",
       "         [3.5914e-05, 1.7293e-05, 1.1712e-04,  ..., 6.1097e-05,\n",
       "          2.3617e-05, 3.2780e-05],\n",
       "         ...,\n",
       "         [4.7145e-05, 6.2734e-05, 3.1881e-05,  ..., 5.5621e-05,\n",
       "          8.3512e-05, 3.4640e-05],\n",
       "         [4.4121e-05, 1.7302e-05, 3.2778e-05,  ..., 2.4677e-05,\n",
       "          3.3164e-05, 5.6470e-05],\n",
       "         [4.5655e-05, 1.4988e-05, 2.4936e-05,  ..., 2.8319e-05,\n",
       "          4.0381e-05, 2.5323e-05]]], device='cuda:0',\n",
       "       grad_fn=<SoftmaxBackward0>)"
      ]
     },
     "execution_count": 6,
     "metadata": {},
     "output_type": "execute_result"
    }
   ],
   "source": [
    "out"
   ]
  },
  {
   "cell_type": "code",
   "execution_count": 8,
   "metadata": {},
   "outputs": [
    {
     "ename": "ValueError",
     "evalue": "too many values to unpack (expected 2)",
     "output_type": "error",
     "traceback": [
      "\u001b[0;31m---------------------------------------------------------------------------\u001b[0m",
      "\u001b[0;31mValueError\u001b[0m                                Traceback (most recent call last)",
      "Cell \u001b[0;32mIn[8], line 4\u001b[0m\n\u001b[1;32m      1\u001b[0m \u001b[39m# Convert piano roll to midi file\u001b[39;00m\n\u001b[1;32m      2\u001b[0m \u001b[39mfrom\u001b[39;00m \u001b[39mpianoroll_to_midi\u001b[39;00m \u001b[39mimport\u001b[39;00m pianoroll_to_midi\n\u001b[0;32m----> 4\u001b[0m midi_out \u001b[39m=\u001b[39m pianoroll_to_midi(out\u001b[39m.\u001b[39;49mto(\u001b[39m\"\u001b[39;49m\u001b[39mcpu\u001b[39;49m\u001b[39m\"\u001b[39;49m))\n\u001b[1;32m      5\u001b[0m midi_out\u001b[39m.\u001b[39msave(\u001b[39m'\u001b[39m\u001b[39mtest.mid\u001b[39m\u001b[39m'\u001b[39m)\n",
      "File \u001b[0;32m~/Melogen/model/pianoroll_to_midi.py:22\u001b[0m, in \u001b[0;36mpianoroll_to_midi\u001b[0;34m(piano_roll, tempo)\u001b[0m\n\u001b[1;32m     20\u001b[0m \u001b[39mfor\u001b[39;00m note \u001b[39min\u001b[39;00m notes:\n\u001b[1;32m     21\u001b[0m     \u001b[39mif\u001b[39;00m note \u001b[39mis\u001b[39;00m \u001b[39mnot\u001b[39;00m \u001b[39mNone\u001b[39;00m:\n\u001b[0;32m---> 22\u001b[0m         note_number, velocity \u001b[39m=\u001b[39m note\n\u001b[1;32m     23\u001b[0m         note_on \u001b[39m=\u001b[39m Message(\u001b[39m'\u001b[39m\u001b[39mnote_on\u001b[39m\u001b[39m'\u001b[39m, note\u001b[39m=\u001b[39mnote_number, velocity\u001b[39m=\u001b[39mvelocity, time\u001b[39m=\u001b[39m\u001b[39m0\u001b[39m)\n\u001b[1;32m     24\u001b[0m         note_off \u001b[39m=\u001b[39m Message(\u001b[39m'\u001b[39m\u001b[39mnote_off\u001b[39m\u001b[39m'\u001b[39m, note\u001b[39m=\u001b[39mnote_number, velocity\u001b[39m=\u001b[39m\u001b[39m0\u001b[39m, time\u001b[39m=\u001b[39mtick_duration)\n",
      "\u001b[0;31mValueError\u001b[0m: too many values to unpack (expected 2)"
     ]
    }
   ],
   "source": [
    "# Convert piano roll to midi file\n",
    "from pianoroll_to_midi import pianoroll_to_midi\n",
    "\n",
    "midi_out = pianoroll_to_midi(out.to(\"cpu\"))\n",
    "midi_out.save('test.mid')"
   ]
  }
 ],
 "metadata": {
  "kernelspec": {
   "display_name": "aps360",
   "language": "python",
   "name": "python3"
  },
  "language_info": {
   "codemirror_mode": {
    "name": "ipython",
    "version": 3
   },
   "file_extension": ".py",
   "mimetype": "text/x-python",
   "name": "python",
   "nbconvert_exporter": "python",
   "pygments_lexer": "ipython3",
   "version": "3.8.10"
  },
  "orig_nbformat": 4
 },
 "nbformat": 4,
 "nbformat_minor": 2
}
